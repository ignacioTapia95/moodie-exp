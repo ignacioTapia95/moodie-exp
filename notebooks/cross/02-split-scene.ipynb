{
 "cells": [
  {
   "cell_type": "code",
   "execution_count": 3,
   "metadata": {},
   "outputs": [],
   "source": [
    "import os\n",
    "from scenedetect import open_video, SceneManager\n",
    "from scenedetect.detectors import ContentDetector"
   ]
  },
  {
   "cell_type": "code",
   "execution_count": 49,
   "metadata": {},
   "outputs": [
    {
     "data": {
      "text/plain": [
       "'0.6.5.2'"
      ]
     },
     "execution_count": 49,
     "metadata": {},
     "output_type": "execute_result"
    }
   ],
   "source": [
    "import scenedetect\n",
    "scenedetect.__version__"
   ]
  },
  {
   "cell_type": "code",
   "execution_count": 14,
   "metadata": {},
   "outputs": [
    {
     "data": {
      "text/plain": [
       "False"
      ]
     },
     "execution_count": 14,
     "metadata": {},
     "output_type": "execute_result"
    }
   ],
   "source": [
    "'asdasd.mp3'.endswith(('.mp4', '.mov', '.mkv'))"
   ]
  },
  {
   "cell_type": "code",
   "execution_count": 69,
   "metadata": {},
   "outputs": [],
   "source": [
    "RAW_DATA_DIR = '../../data/raw'\n",
    "ACCEPTED_VIDEO_EXTENSIONS = ('.mp4', '.mov', '.mkv')\n",
    "OUTPUT_VIDEO_DIR = '../../data/processed/video/{file_dir_name}'\n",
    "OUTPUT_AUDIO_DIR = '../../data/processed/audio/{file_dir_name}'\n",
    "OUTPUT_METADATA_DIR = '../../data/processed/metadata'\n",
    "raw_files_dir = os.listdir(RAW_DATA_DIR)\n",
    "\n",
    "video_path = \"../../data/raw/tt0816692/tt0816692.mov\""
   ]
  },
  {
   "cell_type": "code",
   "execution_count": null,
   "metadata": {},
   "outputs": [],
   "source": []
  },
  {
   "cell_type": "code",
   "execution_count": 36,
   "metadata": {},
   "outputs": [],
   "source": [
    "def _get_file_paths(directory: str, extensions: str) -> list:\n",
    "    #generate documentations\n",
    "    \"\"\"\n",
    "    Get all the files in a directory with a specific extension.\n",
    "    :param directory: The directory to search for files.\n",
    "    :type directory: str\n",
    "    :param extensions: The extensions of the files to search for.\n",
    "    :type extensions: tuple\n",
    "    :return: A list of the files in the directory with the specified extensions.\n",
    "    :rtype: list\n",
    "    \"\"\"\n",
    "    files = []\n",
    "    try:\n",
    "        with os.scandir(directory) as entries:\n",
    "            for entry in entries:\n",
    "                if entry.is_dir():\n",
    "                    subdirectorio = entry.path\n",
    "                    with os.scandir(subdirectorio) as subentries:\n",
    "                        for subentry in subentries:\n",
    "                            if subentry.is_file() and subentry.name.endswith(extensions):\n",
    "                                files.append(subentry.path)\n",
    "    except Exception as e:\n",
    "        print(f\"Error: {e}\")\n",
    "    return files"
   ]
  },
  {
   "cell_type": "code",
   "execution_count": 73,
   "metadata": {},
   "outputs": [
    {
     "name": "stderr",
     "output_type": "stream",
     "text": [
      "  Detected: 74 | Progress: 100%|██████████| 8285/8285 [00:03<00:00, 2561.36frames/s]\n",
      "100%|██████████| 8285/8285 [00:09<00:00, 892.08frame/s] \n"
     ]
    }
   ],
   "source": [
    "from scenedetect import open_video, SceneManager, split_video_ffmpeg\n",
    "from scenedetect.detectors import ContentDetector\n",
    "from scenedetect.video_splitter import split_video_ffmpeg\n",
    "from typing import Iterable, Tuple\n",
    "import json\n",
    "\n",
    "def _save_shots_info(\n",
    "    shot_list: Iterable[Tuple[scenedetect.frame_timecode.FrameTimecode, scenedetect.frame_timecode.FrameTimecode]],\n",
    "    file_video_name: str,\n",
    "    output_dir: str,\n",
    "    ):\n",
    "    \n",
    "    imdb_id = file_video_name.split('.')[0]\n",
    "    metadata = {\n",
    "        'imdb_id': imdb_id,\n",
    "        'shots_video_info': []\n",
    "    }\n",
    "    for shot in shot_list:\n",
    "        start_time = shot[0].get_timecode()\n",
    "        end_time = shot[1].get_timecode()\n",
    "\n",
    "        metadata['shots_video_info'].append({\n",
    "            'shot_number': f'{shot_list.index(shot) + 1:03d}',\n",
    "            'start_time': start_time,\n",
    "            'end_time': end_time,\n",
    "        })\n",
    "\n",
    "    with open(f'{output_dir}/{imdb_id}.json', 'w') as f:\n",
    "        json.dump(metadata, f, indent=4)\n",
    "\n",
    "\n",
    "def _get_scene_list(\n",
    "        video_path:str,\n",
    "        threshold:float = 27.0\n",
    "    ) -> list:\n",
    "\n",
    "    video = open_video(video_path)\n",
    "    scene_manager = SceneManager()\n",
    "    scene_manager.add_detector(ContentDetector(threshold=threshold))\n",
    "    scene_manager.detect_scenes(video, show_progress=True)\n",
    "    scene_list = scene_manager.get_scene_list()\n",
    "    \n",
    "    return scene_list\n",
    "    \n",
    "def _save_video_shots(scene_list: list, video_path: str, output_dir: str):\n",
    "    split_video_ffmpeg(\n",
    "        video_path,\n",
    "        scene_list=scene_list,\n",
    "        show_progress=True,\n",
    "        output_dir=output_dir.format(file_dir_name=video_path.split('/')[-2]),\n",
    "        output_file_template='$VIDEO_NAME-Shot-$SCENE_NUMBER.mp4',\n",
    "    )\n",
    "\n",
    "# def _save_audio_shots(scene_list: list, video_path: str, output_dir: str):\n",
    "#     split_video_ffmpeg(\n",
    "#         video_path,\n",
    "#         scene_list=scene_list,\n",
    "#         show_progress=True,\n",
    "#         output_dir=output_dir,\n",
    "#         output_file_template='$VIDEO_NAME-Shot-$SCENE_NUMBER.mp3',\n",
    "#         video_output=False,\n",
    "#     )\n",
    "\n",
    "def run():\n",
    "    threshold = 27.0\n",
    "    scene_list = _get_scene_list(video_path, threshold)\n",
    "    _save_video_shots(scene_list, video_path, output_dir=OUTPUT_VIDEO_DIR)\n",
    "    _save_shots_info(scene_list, OUTPUT_METADATA_DIR)\n",
    "\n",
    "run()"
   ]
  },
  {
   "cell_type": "code",
   "execution_count": 52,
   "metadata": {},
   "outputs": [
    {
     "name": "stdout",
     "output_type": "stream",
     "text": [
      "\u001b[0;31mSignature:\u001b[0m\n",
      "\u001b[0msplit_video_ffmpeg\u001b[0m\u001b[0;34m(\u001b[0m\u001b[0;34m\u001b[0m\n",
      "\u001b[0;34m\u001b[0m    \u001b[0minput_video_path\u001b[0m\u001b[0;34m:\u001b[0m \u001b[0mstr\u001b[0m\u001b[0;34m,\u001b[0m\u001b[0;34m\u001b[0m\n",
      "\u001b[0;34m\u001b[0m    \u001b[0mscene_list\u001b[0m\u001b[0;34m:\u001b[0m \u001b[0mIterable\u001b[0m\u001b[0;34m[\u001b[0m\u001b[0mTuple\u001b[0m\u001b[0;34m[\u001b[0m\u001b[0mscenedetect\u001b[0m\u001b[0;34m.\u001b[0m\u001b[0mframe_timecode\u001b[0m\u001b[0;34m.\u001b[0m\u001b[0mFrameTimecode\u001b[0m\u001b[0;34m,\u001b[0m \u001b[0mscenedetect\u001b[0m\u001b[0;34m.\u001b[0m\u001b[0mframe_timecode\u001b[0m\u001b[0;34m.\u001b[0m\u001b[0mFrameTimecode\u001b[0m\u001b[0;34m]\u001b[0m\u001b[0;34m]\u001b[0m\u001b[0;34m,\u001b[0m\u001b[0;34m\u001b[0m\n",
      "\u001b[0;34m\u001b[0m    \u001b[0moutput_dir\u001b[0m\u001b[0;34m:\u001b[0m \u001b[0mOptional\u001b[0m\u001b[0;34m[\u001b[0m\u001b[0mpathlib\u001b[0m\u001b[0;34m.\u001b[0m\u001b[0mPath\u001b[0m\u001b[0;34m]\u001b[0m \u001b[0;34m=\u001b[0m \u001b[0;32mNone\u001b[0m\u001b[0;34m,\u001b[0m\u001b[0;34m\u001b[0m\n",
      "\u001b[0;34m\u001b[0m    \u001b[0moutput_file_template\u001b[0m\u001b[0;34m:\u001b[0m \u001b[0mstr\u001b[0m \u001b[0;34m=\u001b[0m \u001b[0;34m'$VIDEO_NAME-Scene-$SCENE_NUMBER.mp4'\u001b[0m\u001b[0;34m,\u001b[0m\u001b[0;34m\u001b[0m\n",
      "\u001b[0;34m\u001b[0m    \u001b[0mvideo_name\u001b[0m\u001b[0;34m:\u001b[0m \u001b[0mOptional\u001b[0m\u001b[0;34m[\u001b[0m\u001b[0mstr\u001b[0m\u001b[0;34m]\u001b[0m \u001b[0;34m=\u001b[0m \u001b[0;32mNone\u001b[0m\u001b[0;34m,\u001b[0m\u001b[0;34m\u001b[0m\n",
      "\u001b[0;34m\u001b[0m    \u001b[0marg_override\u001b[0m\u001b[0;34m:\u001b[0m \u001b[0mstr\u001b[0m \u001b[0;34m=\u001b[0m \u001b[0;34m'-map 0:v:0 -map 0:a? -map 0:s? -c:v libx264 -preset veryfast -crf 22 -c:a aac'\u001b[0m\u001b[0;34m,\u001b[0m\u001b[0;34m\u001b[0m\n",
      "\u001b[0;34m\u001b[0m    \u001b[0mshow_progress\u001b[0m\u001b[0;34m:\u001b[0m \u001b[0mbool\u001b[0m \u001b[0;34m=\u001b[0m \u001b[0;32mFalse\u001b[0m\u001b[0;34m,\u001b[0m\u001b[0;34m\u001b[0m\n",
      "\u001b[0;34m\u001b[0m    \u001b[0mshow_output\u001b[0m\u001b[0;34m:\u001b[0m \u001b[0mbool\u001b[0m \u001b[0;34m=\u001b[0m \u001b[0;32mFalse\u001b[0m\u001b[0;34m,\u001b[0m\u001b[0;34m\u001b[0m\n",
      "\u001b[0;34m\u001b[0m    \u001b[0msuppress_output\u001b[0m\u001b[0;34m=\u001b[0m\u001b[0;32mNone\u001b[0m\u001b[0;34m,\u001b[0m\u001b[0;34m\u001b[0m\n",
      "\u001b[0;34m\u001b[0m    \u001b[0mhide_progress\u001b[0m\u001b[0;34m=\u001b[0m\u001b[0;32mNone\u001b[0m\u001b[0;34m,\u001b[0m\u001b[0;34m\u001b[0m\n",
      "\u001b[0;34m\u001b[0m    \u001b[0mformatter\u001b[0m\u001b[0;34m:\u001b[0m \u001b[0mOptional\u001b[0m\u001b[0;34m[\u001b[0m\u001b[0mCallable\u001b[0m\u001b[0;34m[\u001b[0m\u001b[0;34m[\u001b[0m\u001b[0mscenedetect\u001b[0m\u001b[0;34m.\u001b[0m\u001b[0mvideo_splitter\u001b[0m\u001b[0;34m.\u001b[0m\u001b[0mVideoMetadata\u001b[0m\u001b[0;34m,\u001b[0m \u001b[0mscenedetect\u001b[0m\u001b[0;34m.\u001b[0m\u001b[0mvideo_splitter\u001b[0m\u001b[0;34m.\u001b[0m\u001b[0mSceneMetadata\u001b[0m\u001b[0;34m]\u001b[0m\u001b[0;34m,\u001b[0m \u001b[0;34m~\u001b[0m\u001b[0mAnyStr\u001b[0m\u001b[0;34m]\u001b[0m\u001b[0;34m]\u001b[0m \u001b[0;34m=\u001b[0m \u001b[0;32mNone\u001b[0m\u001b[0;34m,\u001b[0m\u001b[0;34m\u001b[0m\n",
      "\u001b[0;34m\u001b[0m\u001b[0;34m)\u001b[0m \u001b[0;34m->\u001b[0m \u001b[0mint\u001b[0m\u001b[0;34m\u001b[0m\u001b[0;34m\u001b[0m\u001b[0m\n",
      "\u001b[0;31mDocstring:\u001b[0m\n",
      "Calls the ffmpeg command on the input video, generating a new video for\n",
      "each scene based on the start/end timecodes.\n",
      "\n",
      "Arguments:\n",
      "    input_video_path: Path to the video to be split.\n",
      "    scene_list (List[ty.Tuple[FrameTimecode, FrameTimecode]]): List of scenes\n",
      "        (pairs of FrameTimecodes) denoting the start/end frames of each scene.\n",
      "    output_dir: Directory to output videos. If not set, output will be in working directory.\n",
      "    output_file_template (str): Template to use for generating output filenames.\n",
      "        The following variables will be replaced in the template for each scene:\n",
      "        $VIDEO_NAME, $SCENE_NUMBER, $START_TIME, $END_TIME, $START_FRAME, $END_FRAME\n",
      "    video_name (str): Name of the video to be substituted in output_file_template. If not\n",
      "        passed will be calculated from input_video_path automatically.\n",
      "    arg_override (str): Allows overriding the arguments passed to ffmpeg for encoding.\n",
      "    show_progress (bool): If True, will show progress bar provided by tqdm (if installed).\n",
      "    show_output (bool): If True, will show output from ffmpeg for first split.\n",
      "    suppress_output: [DEPRECATED] DO NOT USE. For backwards compatibility only.\n",
      "    hide_progress: [DEPRECATED] DO NOT USE. For backwards compatibility only.\n",
      "    formatter: Custom formatter callback. Overrides `output_file_template`.\n",
      "\n",
      "Returns:\n",
      "    Return code of invoking ffmpeg (0 on success). If scene_list is empty, will\n",
      "    still return 0, but no commands will be invoked.\n",
      "\u001b[0;31mFile:\u001b[0m      ~/workspace/moodie/research/.venv/lib/python3.12/site-packages/scenedetect/video_splitter.py\n",
      "\u001b[0;31mType:\u001b[0m      function"
     ]
    }
   ],
   "source": [
    "from scenedetect import open_video, SceneManager, split_video_ffmpeg\n",
    "?split_video_ffmpeg"
   ]
  },
  {
   "cell_type": "code",
   "execution_count": 35,
   "metadata": {},
   "outputs": [
    {
     "data": {
      "text/plain": [
       "['../../data/raw/tt0816692/tt0816692.mov']"
      ]
     },
     "execution_count": 35,
     "metadata": {},
     "output_type": "execute_result"
    }
   ],
   "source": [
    "_get_video_paths(RAW_DATA_DIR, ACCEPTED_VIDEO_EXTENSIONS)"
   ]
  },
  {
   "cell_type": "code",
   "execution_count": 38,
   "metadata": {},
   "outputs": [
    {
     "name": "stdout",
     "output_type": "stream",
     "text": [
      "Se detectaron 72 escenas.\n",
      "Escena 1: 00:00:00.000 - 00:00:01.217\n",
      "Escena 2: 00:00:01.217 - 00:00:02.300\n",
      "Escena 3: 00:00:02.300 - 00:00:03.633\n",
      "Escena 4: 00:00:03.633 - 00:00:04.500\n",
      "Escena 5: 00:00:04.500 - 00:00:05.233\n",
      "Escena 6: 00:00:05.233 - 00:00:06.733\n",
      "Escena 7: 00:00:06.733 - 00:00:07.367\n",
      "Escena 8: 00:00:07.367 - 00:00:08.583\n",
      "Escena 9: 00:00:08.583 - 00:00:09.383\n",
      "Escena 10: 00:00:09.383 - 00:00:11.350\n",
      "Escena 11: 00:00:11.350 - 00:00:12.867\n",
      "Escena 12: 00:00:12.867 - 00:00:13.500\n",
      "Escena 13: 00:00:13.500 - 00:00:15.850\n",
      "Escena 14: 00:00:15.850 - 00:00:16.817\n",
      "Escena 15: 00:00:16.817 - 00:00:18.300\n",
      "Escena 16: 00:00:18.300 - 00:00:20.133\n",
      "Escena 17: 00:00:20.133 - 00:00:22.550\n",
      "Escena 18: 00:00:22.550 - 00:00:27.767\n",
      "Escena 19: 00:00:27.767 - 00:00:28.033\n",
      "Escena 20: 00:00:28.033 - 00:00:28.600\n",
      "Escena 21: 00:00:28.600 - 00:00:29.250\n",
      "Escena 22: 00:00:29.250 - 00:00:29.883\n",
      "Escena 23: 00:00:29.883 - 00:00:30.767\n",
      "Escena 24: 00:00:30.767 - 00:00:32.367\n",
      "Escena 25: 00:00:32.367 - 00:00:33.567\n",
      "Escena 26: 00:00:33.567 - 00:00:34.650\n",
      "Escena 27: 00:00:34.650 - 00:00:35.850\n",
      "Escena 28: 00:00:35.850 - 00:00:39.583\n",
      "Escena 29: 00:00:39.583 - 00:00:41.867\n",
      "Escena 30: 00:00:41.867 - 00:00:42.817\n",
      "Escena 31: 00:00:42.817 - 00:00:47.317\n",
      "Escena 32: 00:00:47.317 - 00:00:48.517\n",
      "Escena 33: 00:00:48.517 - 00:00:52.367\n",
      "Escena 34: 00:00:52.367 - 00:00:54.317\n",
      "Escena 35: 00:00:54.317 - 00:00:58.867\n",
      "Escena 36: 00:00:58.867 - 00:00:59.833\n",
      "Escena 37: 00:00:59.833 - 00:01:02.567\n",
      "Escena 38: 00:01:02.567 - 00:01:05.850\n",
      "Escena 39: 00:01:05.850 - 00:01:08.883\n",
      "Escena 40: 00:01:08.883 - 00:01:11.600\n",
      "Escena 41: 00:01:11.600 - 00:01:14.233\n",
      "Escena 42: 00:01:14.233 - 00:01:15.317\n",
      "Escena 43: 00:01:15.317 - 00:01:16.750\n",
      "Escena 44: 00:01:16.750 - 00:01:17.600\n",
      "Escena 45: 00:01:17.600 - 00:01:18.583\n",
      "Escena 46: 00:01:18.583 - 00:01:20.033\n",
      "Escena 47: 00:01:20.033 - 00:01:21.867\n",
      "Escena 48: 00:01:21.867 - 00:01:25.017\n",
      "Escena 49: 00:01:25.017 - 00:01:26.533\n",
      "Escena 50: 00:01:26.533 - 00:01:27.050\n",
      "Escena 51: 00:01:27.050 - 00:01:30.333\n",
      "Escena 52: 00:01:30.333 - 00:01:31.183\n",
      "Escena 53: 00:01:31.183 - 00:01:32.933\n",
      "Escena 54: 00:01:32.933 - 00:01:33.767\n",
      "Escena 55: 00:01:33.767 - 00:01:35.617\n",
      "Escena 56: 00:01:35.617 - 00:01:38.200\n",
      "Escena 57: 00:01:38.200 - 00:01:41.333\n",
      "Escena 58: 00:01:41.333 - 00:01:43.517\n",
      "Escena 59: 00:01:43.517 - 00:01:44.367\n",
      "Escena 60: 00:01:44.367 - 00:01:47.767\n",
      "Escena 61: 00:01:47.767 - 00:01:49.083\n",
      "Escena 62: 00:01:49.083 - 00:01:50.850\n",
      "Escena 63: 00:01:50.850 - 00:01:52.683\n",
      "Escena 64: 00:01:52.683 - 00:01:53.600\n",
      "Escena 65: 00:01:53.600 - 00:01:58.800\n",
      "Escena 66: 00:01:58.800 - 00:02:00.200\n",
      "Escena 67: 00:02:00.200 - 00:02:01.350\n",
      "Escena 68: 00:02:01.350 - 00:02:03.217\n",
      "Escena 69: 00:02:03.217 - 00:02:04.000\n",
      "Escena 70: 00:02:04.000 - 00:02:04.667\n",
      "Escena 71: 00:02:04.667 - 00:02:07.700\n",
      "Escena 72: 00:02:07.700 - 00:02:18.083\n"
     ]
    }
   ],
   "source": [
    "video_path = \"../../data/raw/tt0816692/tt0816692.mov\"\n",
    "\n",
    "video_manager = open_video(video_path)\n",
    "scene_manager = SceneManager()\n",
    "scene_manager.add_detector(ContentDetector(threshold=30.0))  # Ajusta el umbral según la sensibilidad deseada.\n",
    "\n",
    "scene_manager.detect_scenes(video_manager)\n",
    "\n",
    "scene_list = scene_manager.get_scene_list()\n",
    "\n",
    "print(f\"Se detectaron {len(scene_list)} escenas.\")\n",
    "for i, scene in enumerate(scene_list):\n",
    "    print(f\"Escena {i + 1}: {scene[0]} - {scene[1]}\")\n"
   ]
  },
  {
   "cell_type": "code",
   "execution_count": 45,
   "metadata": {},
   "outputs": [
    {
     "data": {
      "text/plain": [
       "73"
      ]
     },
     "execution_count": 45,
     "metadata": {},
     "output_type": "execute_result"
    }
   ],
   "source": [
    "scene_list[1][0].get_frames()"
   ]
  },
  {
   "cell_type": "code",
   "execution_count": 47,
   "metadata": {},
   "outputs": [
    {
     "data": {
      "text/plain": [
       "00:00:02.300 [frame=138, fps=60.000]"
      ]
     },
     "execution_count": 47,
     "metadata": {},
     "output_type": "execute_result"
    }
   ],
   "source": [
    "scene_list[1][1]"
   ]
  },
  {
   "cell_type": "code",
   "execution_count": null,
   "metadata": {},
   "outputs": [],
   "source": []
  }
 ],
 "metadata": {
  "kernelspec": {
   "display_name": ".venv",
   "language": "python",
   "name": "python3"
  },
  "language_info": {
   "codemirror_mode": {
    "name": "ipython",
    "version": 3
   },
   "file_extension": ".py",
   "mimetype": "text/x-python",
   "name": "python",
   "nbconvert_exporter": "python",
   "pygments_lexer": "ipython3",
   "version": "3.12.8"
  }
 },
 "nbformat": 4,
 "nbformat_minor": 2
}
