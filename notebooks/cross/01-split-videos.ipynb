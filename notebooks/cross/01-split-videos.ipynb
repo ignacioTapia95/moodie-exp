{
 "cells": [
  {
   "cell_type": "code",
   "execution_count": 4,
   "metadata": {},
   "outputs": [],
   "source": [
    "import ffmpeg"
   ]
  },
  {
   "cell_type": "code",
   "execution_count": 5,
   "metadata": {},
   "outputs": [],
   "source": [
    "RAW_DATA_PATH = \"../../data/raw/\"\n",
    "VIDEO_DATA_PATH = \"../../data/video/\"\n",
    "AUDIO_DATA_PATH = \"../../data/audio/\""
   ]
  },
  {
   "cell_type": "code",
   "execution_count": 6,
   "metadata": {},
   "outputs": [
    {
     "name": "stderr",
     "output_type": "stream",
     "text": [
      "ffmpeg version 7.1 Copyright (c) 2000-2024 the FFmpeg developers\n",
      "  built with Apple clang version 16.0.0 (clang-1600.0.26.4)\n",
      "  configuration: --prefix=/opt/homebrew/Cellar/ffmpeg/7.1_3 --enable-shared --enable-pthreads --enable-version3 --cc=clang --host-cflags= --host-ldflags='-Wl,-ld_classic' --enable-ffplay --enable-gnutls --enable-gpl --enable-libaom --enable-libaribb24 --enable-libbluray --enable-libdav1d --enable-libharfbuzz --enable-libjxl --enable-libmp3lame --enable-libopus --enable-librav1e --enable-librist --enable-librubberband --enable-libsnappy --enable-libsrt --enable-libssh --enable-libsvtav1 --enable-libtesseract --enable-libtheora --enable-libvidstab --enable-libvmaf --enable-libvorbis --enable-libvpx --enable-libwebp --enable-libx264 --enable-libx265 --enable-libxml2 --enable-libxvid --enable-lzma --enable-libfontconfig --enable-libfreetype --enable-frei0r --enable-libass --enable-libopencore-amrnb --enable-libopencore-amrwb --enable-libopenjpeg --enable-libspeex --enable-libsoxr --enable-libzmq --enable-libzimg --disable-libjack --disable-indev=jack --enable-videotoolbox --enable-audiotoolbox --enable-neon\n",
      "  libavutil      59. 39.100 / 59. 39.100\n",
      "  libavcodec     61. 19.100 / 61. 19.100\n",
      "  libavformat    61.  7.100 / 61.  7.100\n",
      "  libavdevice    61.  3.100 / 61.  3.100\n",
      "  libavfilter    10.  4.100 / 10.  4.100\n",
      "  libswscale      8.  3.100 /  8.  3.100\n",
      "  libswresample   5.  3.100 /  5.  3.100\n",
      "  libpostproc    58.  3.100 / 58.  3.100\n",
      "Input #0, mov,mp4,m4a,3gp,3g2,mj2, from '../../data/raw/anime.mp4':\n",
      "  Metadata:\n",
      "    major_brand     : isom\n",
      "    minor_version   : 512\n",
      "    compatible_brands: isomiso2avc1mp41\n",
      "    encoder         : Lavf54.63.104\n",
      "    title           : Serial Experiments Lain - 01: Weird\n",
      "  Duration: 00:23:54.47, start: 0.000000, bitrate: 3371 kb/s\n",
      "  Stream #0:0[0x1](und): Video: h264 (Main) (avc1 / 0x31637661), yuv420p(progressive), 1520x1080 [SAR 1:1 DAR 38:27], 3204 kb/s, 23.97 fps, 23.98 tbr, 24k tbn (default)\n",
      "      Metadata:\n",
      "        handler_name    : VideoHandler\n",
      "        vendor_id       : [0][0][0][0]\n",
      "  Stream #0:1[0x2](unk): Audio: aac (LC) (mp4a / 0x6134706D), 48000 Hz, stereo, fltp, 159 kb/s (default)\n",
      "      Metadata:\n",
      "        handler_name    : SoundHandler\n",
      "        vendor_id       : [0][0][0][0]\n",
      "Stream mapping:\n",
      "  Stream #0:0 -> #0:0 (h264 (native) -> h264 (libx264))\n",
      "Press [q] to stop, [?] for help\n",
      "[libx264 @ 0x148107230] using SAR=1/1\n",
      "[libx264 @ 0x148107230] using cpu capabilities: ARMv8 NEON\n",
      "[libx264 @ 0x148107230] profile High, level 4.0, 4:2:0, 8-bit\n",
      "[libx264 @ 0x148107230] 264 - core 164 r3108 31e19f9 - H.264/MPEG-4 AVC codec - Copyleft 2003-2023 - http://www.videolan.org/x264.html - options: cabac=1 ref=3 deblock=1:0:0 analyse=0x3:0x113 me=hex subme=7 psy=1 psy_rd=1.00:0.00 mixed_ref=1 me_range=16 chroma_me=1 trellis=1 8x8dct=1 cqm=0 deadzone=21,11 fast_pskip=1 chroma_qp_offset=-2 threads=15 lookahead_threads=2 sliced_threads=0 nr=0 decimate=1 interlaced=0 bluray_compat=0 constrained_intra=0 bframes=3 b_pyramid=2 b_adapt=1 b_bias=0 direct=1 weightb=1 open_gop=0 weightp=2 keyint=250 keyint_min=23 scenecut=40 intra_refresh=0 rc_lookahead=40 rc=crf mbtree=1 crf=23.0 qcomp=0.60 qpmin=0 qpmax=69 qpstep=4 ip_ratio=1.40 aq=1:1.00\n",
      "Output #0, mp4, to '../../data/video/anime.mp4':\n",
      "  Metadata:\n",
      "    major_brand     : isom\n",
      "    minor_version   : 512\n",
      "    compatible_brands: isomiso2avc1mp41\n",
      "    title           : Serial Experiments Lain - 01: Weird\n",
      "    encoder         : Lavf61.7.100\n",
      "  Stream #0:0(und): Video: h264 (avc1 / 0x31637661), yuv420p(tv, progressive), 1520x1080 [SAR 1:1 DAR 38:27], q=2-31, 23.98 fps, 24k tbn (default)\n",
      "      Metadata:\n",
      "        handler_name    : VideoHandler\n",
      "        vendor_id       : [0][0][0][0]\n",
      "        encoder         : Lavc61.19.100 libx264\n",
      "      Side data:\n",
      "        cpb: bitrate max/min/avg: 0/0/0 buffer size: 0 vbv_delay: N/A\n",
      "[out#0/mp4 @ 0x1481063c0] video:343239KiB audio:0KiB subtitle:0KiB other streams:0KiB global headers:0KiB muxing overhead: 0.114471%\n",
      "frame=34387 fps=142 q=-1.0 Lsize=  343632KiB time=00:23:54.39 bitrate=1962.5kbits/s speed=5.94x    \n",
      "[libx264 @ 0x148107230] frame I:425   Avg QP:17.90  size: 75146\n",
      "[libx264 @ 0x148107230] frame P:10002 Avg QP:20.70  size: 18433\n",
      "[libx264 @ 0x148107230] frame B:23960 Avg QP:22.16  size:  5641\n",
      "[libx264 @ 0x148107230] consecutive B-frames:  4.0%  5.2% 12.2% 78.6%\n",
      "[libx264 @ 0x148107230] mb I  I16..4: 27.8% 49.2% 22.9%\n",
      "[libx264 @ 0x148107230] mb P  I16..4:  5.1%  9.3%  1.2%  P16..4: 42.6%  6.0%  3.4%  0.0%  0.0%    skip:32.3%\n",
      "[libx264 @ 0x148107230] mb B  I16..4:  0.4%  0.6%  0.1%  B16..8: 33.8%  1.2%  0.1%  direct: 2.7%  skip:61.0%  L0:46.3% L1:52.5% BI: 1.2%\n",
      "[libx264 @ 0x148107230] 8x8 transform intra:56.7% inter:88.0%\n",
      "[libx264 @ 0x148107230] coded y,uvDC,uvAC intra: 39.0% 59.5% 21.2% inter: 7.5% 17.0% 0.4%\n",
      "[libx264 @ 0x148107230] i16 v,h,dc,p: 26% 32%  9% 33%\n",
      "[libx264 @ 0x148107230] i8 v,h,dc,ddl,ddr,vr,hd,vl,hu: 19% 21% 34%  4%  5%  4%  5%  4%  4%\n",
      "[libx264 @ 0x148107230] i4 v,h,dc,ddl,ddr,vr,hd,vl,hu: 18% 32% 14%  6%  8%  6%  7%  5%  5%\n",
      "[libx264 @ 0x148107230] i8c dc,h,v,p: 51% 24% 18%  6%\n",
      "[libx264 @ 0x148107230] Weighted P-Frames: Y:6.7% UV:3.2%\n",
      "[libx264 @ 0x148107230] ref P L0: 56.4%  8.2% 22.7% 12.2%  0.5%\n",
      "[libx264 @ 0x148107230] ref B L0: 78.6% 16.8%  4.5%\n",
      "[libx264 @ 0x148107230] ref B L1: 92.1%  7.9%\n",
      "[libx264 @ 0x148107230] kb/s:1960.22\n",
      "ffmpeg version 7.1 Copyright (c) 2000-2024 the FFmpeg developers\n",
      "  built with Apple clang version 16.0.0 (clang-1600.0.26.4)\n",
      "  configuration: --prefix=/opt/homebrew/Cellar/ffmpeg/7.1_3 --enable-shared --enable-pthreads --enable-version3 --cc=clang --host-cflags= --host-ldflags='-Wl,-ld_classic' --enable-ffplay --enable-gnutls --enable-gpl --enable-libaom --enable-libaribb24 --enable-libbluray --enable-libdav1d --enable-libharfbuzz --enable-libjxl --enable-libmp3lame --enable-libopus --enable-librav1e --enable-librist --enable-librubberband --enable-libsnappy --enable-libsrt --enable-libssh --enable-libsvtav1 --enable-libtesseract --enable-libtheora --enable-libvidstab --enable-libvmaf --enable-libvorbis --enable-libvpx --enable-libwebp --enable-libx264 --enable-libx265 --enable-libxml2 --enable-libxvid --enable-lzma --enable-libfontconfig --enable-libfreetype --enable-frei0r --enable-libass --enable-libopencore-amrnb --enable-libopencore-amrwb --enable-libopenjpeg --enable-libspeex --enable-libsoxr --enable-libzmq --enable-libzimg --disable-libjack --disable-indev=jack --enable-videotoolbox --enable-audiotoolbox --enable-neon\n",
      "  libavutil      59. 39.100 / 59. 39.100\n",
      "  libavcodec     61. 19.100 / 61. 19.100\n",
      "  libavformat    61.  7.100 / 61.  7.100\n",
      "  libavdevice    61.  3.100 / 61.  3.100\n",
      "  libavfilter    10.  4.100 / 10.  4.100\n",
      "  libswscale      8.  3.100 /  8.  3.100\n",
      "  libswresample   5.  3.100 /  5.  3.100\n",
      "  libpostproc    58.  3.100 / 58.  3.100\n",
      "Input #0, mov,mp4,m4a,3gp,3g2,mj2, from '../../data/raw/anime.mp4':\n",
      "  Metadata:\n",
      "    major_brand     : isom\n",
      "    minor_version   : 512\n",
      "    compatible_brands: isomiso2avc1mp41\n",
      "    encoder         : Lavf54.63.104\n",
      "    title           : Serial Experiments Lain - 01: Weird\n",
      "  Duration: 00:23:54.47, start: 0.000000, bitrate: 3371 kb/s\n",
      "  Stream #0:0[0x1](und): Video: h264 (Main) (avc1 / 0x31637661), yuv420p(progressive), 1520x1080 [SAR 1:1 DAR 38:27], 3204 kb/s, 23.97 fps, 23.98 tbr, 24k tbn (default)\n",
      "      Metadata:\n",
      "        handler_name    : VideoHandler\n",
      "        vendor_id       : [0][0][0][0]\n",
      "  Stream #0:1[0x2](unk): Audio: aac (LC) (mp4a / 0x6134706D), 48000 Hz, stereo, fltp, 159 kb/s (default)\n",
      "      Metadata:\n",
      "        handler_name    : SoundHandler\n",
      "        vendor_id       : [0][0][0][0]\n",
      "Stream mapping:\n",
      "  Stream #0:1 -> #0:0 (aac (native) -> mp3 (libmp3lame))\n",
      "Press [q] to stop, [?] for help\n",
      "Output #0, mp3, to '../../data/audio/anime.mp3':\n",
      "  Metadata:\n",
      "    major_brand     : isom\n",
      "    minor_version   : 512\n",
      "    compatible_brands: isomiso2avc1mp41\n",
      "    TIT2            : Serial Experiments Lain - 01: Weird\n",
      "    TSSE            : Lavf61.7.100\n",
      "  Stream #0:0(unk): Audio: mp3, 48000 Hz, stereo, fltp (default)\n",
      "      Metadata:\n",
      "        handler_name    : SoundHandler\n",
      "        vendor_id       : [0][0][0][0]\n",
      "        encoder         : Lavc61.19.100 libmp3lame\n",
      "[out#0/mp3 @ 0x149f16bd0] video:0KiB audio:22413KiB subtitle:0KiB other streams:0KiB global headers:0KiB muxing overhead: 0.001682%\n",
      "size=   22414KiB time=00:23:54.44 bitrate= 128.0kbits/s speed=81.3x    \n"
     ]
    },
    {
     "data": {
      "text/plain": [
       "(None, None)"
      ]
     },
     "execution_count": 6,
     "metadata": {},
     "output_type": "execute_result"
    }
   ],
   "source": [
    "filename = \"anime.mp4\"\n",
    "ffmpeg.input(RAW_DATA_PATH + filename).output(VIDEO_DATA_PATH + \"anime.mp4\", an=None).run()\n",
    "ffmpeg.input(RAW_DATA_PATH + filename).output(AUDIO_DATA_PATH + \"anime.mp3\", vn=None).run()"
   ]
  },
  {
   "cell_type": "code",
   "execution_count": null,
   "metadata": {},
   "outputs": [],
   "source": []
  }
 ],
 "metadata": {
  "kernelspec": {
   "display_name": ".venv",
   "language": "python",
   "name": "python3"
  },
  "language_info": {
   "codemirror_mode": {
    "name": "ipython",
    "version": 3
   },
   "file_extension": ".py",
   "mimetype": "text/x-python",
   "name": "python",
   "nbconvert_exporter": "python",
   "pygments_lexer": "ipython3",
   "version": "3.12.8"
  }
 },
 "nbformat": 4,
 "nbformat_minor": 2
}
